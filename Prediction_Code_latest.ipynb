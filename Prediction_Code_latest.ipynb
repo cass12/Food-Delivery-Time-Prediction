{
 "cells": [
  {
   "cell_type": "code",
   "execution_count": 1,
   "metadata": {},
   "outputs": [],
   "source": [
    "import pandas as pd\n",
    "import numpy as np\n",
    "import matplotlib.pyplot as plt\n",
    "import seaborn as sns\n",
    "import xgboost as xgb\n",
    "from sklearn.ensemble import RandomForestRegressor\n",
    "from xgboost import XGBClassifier\n",
    "from xgboost import XGBRegressor\n",
    "\n",
    "from sklearn.svm import SVC\n",
    "from sklearn.metrics import classification_report, confusion_matrix\n",
    "from sklearn.metrics import mean_squared_error \n",
    "from sklearn.preprocessing import StandardScaler\n",
    "import sklearn.metrics as sm\n",
    "\n",
    "from sklearn.preprocessing import LabelEncoder\n",
    "from sklearn.metrics import accuracy_score\n",
    "from sklearn.model_selection import train_test_split\n",
    "\n",
    "from sklearn.tree import export_graphviz \n",
    "import pydot"
   ]
  },
  {
   "cell_type": "markdown",
   "metadata": {},
   "source": [
    "#### Read data and select needed columns"
   ]
  },
  {
   "cell_type": "code",
   "execution_count": 2,
   "metadata": {},
   "outputs": [],
   "source": [
    "train_data = pd.read_excel('/home/cas/Desktop/TazzFDE/FDE Estimation/Calcul FDE.xlsx', sheet_name='Data all', engine='openpyxl')  \n",
    "test_data = pd.read_excel('/home/cas/Desktop/TazzFDE/FDE Estimation/Calcul FDE.xlsx', sheet_name='Data cleaner', engine='openpyxl')  \n",
    "\n",
    "\n",
    "#drop cols after X or lower than FDE\n",
    "train_data.drop(train_data.iloc[:, 21:25], inplace = True, axis = 1) \n",
    "test_data.drop(test_data.iloc[:, 21:25], inplace = True, axis = 1) \n"
   ]
  },
  {
   "cell_type": "code",
   "execution_count": 3,
   "metadata": {},
   "outputs": [],
   "source": [
    "#test_data.isnull().sum() "
   ]
  },
  {
   "cell_type": "code",
   "execution_count": 4,
   "metadata": {},
   "outputs": [],
   "source": [
    "#train_data.isnull().sum()"
   ]
  },
  {
   "cell_type": "markdown",
   "metadata": {},
   "source": [
    "#### Drop the NaN values (were like 1000 so it's fine)"
   ]
  },
  {
   "cell_type": "code",
   "execution_count": 5,
   "metadata": {},
   "outputs": [],
   "source": [
    "test_data = test_data.dropna()"
   ]
  },
  {
   "cell_type": "markdown",
   "metadata": {},
   "source": [
    "#### Clean data"
   ]
  },
  {
   "cell_type": "code",
   "execution_count": 6,
   "metadata": {},
   "outputs": [],
   "source": [
    "test_data['ID Restaurant'] = test_data['ID Restaurant'].replace([\"\\\"3909\\\"\"],'3909', regex = True)  \n",
    "test_data['ID Restaurant'] = test_data['ID Restaurant'].replace([\"\\\\ufeff3909\"],'3909', regex = True)  \n"
   ]
  },
  {
   "cell_type": "code",
   "execution_count": 7,
   "metadata": {},
   "outputs": [],
   "source": [
    "temp_df =train_data[train_data['actual_delivery_time'].astype(str).str[0:2]!='\\\\N']\n",
    "\n",
    "train_data['actual_delivery_time'] = train_data['actual_delivery_time'].replace('\\\\\\\\N', temp_df['actual_delivery_time'].mean(), regex=True) \n"
   ]
  },
  {
   "cell_type": "code",
   "execution_count": 8,
   "metadata": {},
   "outputs": [],
   "source": [
    "train_data['Oras'] = train_data['Oras'].apply(lambda x: x.replace('-', ' ')) \n",
    "test_data['Oras'] = test_data['Oras'].apply(lambda x: str(x).replace('-', ' ')) \n"
   ]
  },
  {
   "cell_type": "code",
   "execution_count": 9,
   "metadata": {},
   "outputs": [
    {
     "data": {
      "text/plain": [
       "distance                  0.130368\n",
       "actual_delivery_time      1.000000\n",
       "taken                     0.659169\n",
       "alocata                   0.667711\n",
       "ridicata                  0.930212\n",
       "prep_time                 0.198121\n",
       "FDE                       0.700561\n",
       "X Estimat                 0.207392\n",
       "X Range Low               0.174645\n",
       "X Range High              0.157067\n",
       "X or lower than Actual    0.328276\n",
       "X or lower than FDE       0.123230\n",
       "Name: actual_delivery_time, dtype: float64"
      ]
     },
     "execution_count": 9,
     "metadata": {},
     "output_type": "execute_result"
    }
   ],
   "source": [
    "corrs = train_data.corr()['actual_delivery_time'].abs()\n",
    "columns = corrs[corrs > .1].index\n",
    "corrs = corrs.filter(columns)\n",
    "corrs"
   ]
  },
  {
   "cell_type": "code",
   "execution_count": 10,
   "metadata": {},
   "outputs": [],
   "source": [
    "#train_data.info()"
   ]
  },
  {
   "cell_type": "code",
   "execution_count": 11,
   "metadata": {},
   "outputs": [],
   "source": [
    "#test_data.info()"
   ]
  },
  {
   "cell_type": "markdown",
   "metadata": {},
   "source": [
    "#### Correct the data types of features"
   ]
  },
  {
   "cell_type": "code",
   "execution_count": 12,
   "metadata": {},
   "outputs": [],
   "source": [
    "test_data[['taken','alocata','ridicata','prep_time','FDE','actual_delivery_time']] = test_data[['taken','alocata','ridicata','prep_time','FDE','actual_delivery_time']].astype('int64')"
   ]
  },
  {
   "cell_type": "code",
   "execution_count": 13,
   "metadata": {},
   "outputs": [],
   "source": [
    "train_data[['ID Restaurant','Oras','order id']] = train_data[['ID Restaurant','Oras','order id']].astype('object')\n",
    "train_data['actual_delivery_time'] = train_data['actual_delivery_time'].astype('int64')"
   ]
  },
  {
   "cell_type": "code",
   "execution_count": 14,
   "metadata": {},
   "outputs": [],
   "source": [
    "train_data['Oras']=LabelEncoder().fit_transform(train_data['Oras'])\n",
    "train_data['ID Restaurant']=LabelEncoder().fit_transform(train_data['ID Restaurant']) \n",
    "train_data['order id']=LabelEncoder().fit_transform(train_data['order id'])\n"
   ]
  },
  {
   "cell_type": "markdown",
   "metadata": {},
   "source": [
    "#### Deal with categorical variables"
   ]
  },
  {
   "cell_type": "code",
   "execution_count": 15,
   "metadata": {},
   "outputs": [],
   "source": [
    "train_data['day of week'] = train_data['added'].dt.day_name()\n",
    "train_data.drop('added', axis=1, inplace=True)\n"
   ]
  },
  {
   "cell_type": "code",
   "execution_count": 16,
   "metadata": {
    "scrolled": true
   },
   "outputs": [
    {
     "data": {
      "text/html": [
       "<div>\n",
       "<style scoped>\n",
       "    .dataframe tbody tr th:only-of-type {\n",
       "        vertical-align: middle;\n",
       "    }\n",
       "\n",
       "    .dataframe tbody tr th {\n",
       "        vertical-align: top;\n",
       "    }\n",
       "\n",
       "    .dataframe thead th {\n",
       "        text-align: right;\n",
       "    }\n",
       "</style>\n",
       "<table border=\"1\" class=\"dataframe\">\n",
       "  <thead>\n",
       "    <tr style=\"text-align: right;\">\n",
       "      <th></th>\n",
       "      <th>ID Restaurant</th>\n",
       "      <th>Oras</th>\n",
       "      <th>order id</th>\n",
       "      <th>avg_prep_time</th>\n",
       "      <th>cluster_load</th>\n",
       "      <th>distance</th>\n",
       "      <th>actual_delivery_time</th>\n",
       "      <th>taken</th>\n",
       "      <th>alocata</th>\n",
       "      <th>ridicata</th>\n",
       "      <th>...</th>\n",
       "      <th>X or lower than Actual</th>\n",
       "      <th>X Match FDE</th>\n",
       "      <th>X or lower than FDE</th>\n",
       "      <th>day of week_Friday</th>\n",
       "      <th>day of week_Monday</th>\n",
       "      <th>day of week_Saturday</th>\n",
       "      <th>day of week_Sunday</th>\n",
       "      <th>day of week_Thursday</th>\n",
       "      <th>day of week_Tuesday</th>\n",
       "      <th>day of week_Wednesday</th>\n",
       "    </tr>\n",
       "  </thead>\n",
       "  <tbody>\n",
       "    <tr>\n",
       "      <th>0</th>\n",
       "      <td>403</td>\n",
       "      <td>11</td>\n",
       "      <td>2160</td>\n",
       "      <td>12.29</td>\n",
       "      <td>1.0</td>\n",
       "      <td>3.54</td>\n",
       "      <td>24</td>\n",
       "      <td>1</td>\n",
       "      <td>1</td>\n",
       "      <td>11</td>\n",
       "      <td>...</td>\n",
       "      <td>1</td>\n",
       "      <td>0</td>\n",
       "      <td>0</td>\n",
       "      <td>0</td>\n",
       "      <td>0</td>\n",
       "      <td>0</td>\n",
       "      <td>1</td>\n",
       "      <td>0</td>\n",
       "      <td>0</td>\n",
       "      <td>0</td>\n",
       "    </tr>\n",
       "    <tr>\n",
       "      <th>1</th>\n",
       "      <td>1106</td>\n",
       "      <td>3</td>\n",
       "      <td>40135</td>\n",
       "      <td>20.00</td>\n",
       "      <td>1.0</td>\n",
       "      <td>4.05</td>\n",
       "      <td>36</td>\n",
       "      <td>0</td>\n",
       "      <td>0</td>\n",
       "      <td>22</td>\n",
       "      <td>...</td>\n",
       "      <td>1</td>\n",
       "      <td>1</td>\n",
       "      <td>1</td>\n",
       "      <td>0</td>\n",
       "      <td>0</td>\n",
       "      <td>0</td>\n",
       "      <td>1</td>\n",
       "      <td>0</td>\n",
       "      <td>0</td>\n",
       "      <td>0</td>\n",
       "    </tr>\n",
       "    <tr>\n",
       "      <th>2</th>\n",
       "      <td>403</td>\n",
       "      <td>11</td>\n",
       "      <td>36882</td>\n",
       "      <td>12.29</td>\n",
       "      <td>1.0</td>\n",
       "      <td>1.60</td>\n",
       "      <td>22</td>\n",
       "      <td>1</td>\n",
       "      <td>1</td>\n",
       "      <td>13</td>\n",
       "      <td>...</td>\n",
       "      <td>1</td>\n",
       "      <td>1</td>\n",
       "      <td>1</td>\n",
       "      <td>0</td>\n",
       "      <td>0</td>\n",
       "      <td>0</td>\n",
       "      <td>1</td>\n",
       "      <td>0</td>\n",
       "      <td>0</td>\n",
       "      <td>0</td>\n",
       "    </tr>\n",
       "    <tr>\n",
       "      <th>3</th>\n",
       "      <td>625</td>\n",
       "      <td>3</td>\n",
       "      <td>1329</td>\n",
       "      <td>20.00</td>\n",
       "      <td>1.0</td>\n",
       "      <td>4.49</td>\n",
       "      <td>61</td>\n",
       "      <td>0</td>\n",
       "      <td>0</td>\n",
       "      <td>29</td>\n",
       "      <td>...</td>\n",
       "      <td>0</td>\n",
       "      <td>0</td>\n",
       "      <td>0</td>\n",
       "      <td>0</td>\n",
       "      <td>0</td>\n",
       "      <td>0</td>\n",
       "      <td>1</td>\n",
       "      <td>0</td>\n",
       "      <td>0</td>\n",
       "      <td>0</td>\n",
       "    </tr>\n",
       "    <tr>\n",
       "      <th>4</th>\n",
       "      <td>999</td>\n",
       "      <td>3</td>\n",
       "      <td>13449</td>\n",
       "      <td>0.00</td>\n",
       "      <td>1.0</td>\n",
       "      <td>1.02</td>\n",
       "      <td>117</td>\n",
       "      <td>0</td>\n",
       "      <td>23</td>\n",
       "      <td>85</td>\n",
       "      <td>...</td>\n",
       "      <td>0</td>\n",
       "      <td>0</td>\n",
       "      <td>0</td>\n",
       "      <td>0</td>\n",
       "      <td>0</td>\n",
       "      <td>0</td>\n",
       "      <td>1</td>\n",
       "      <td>0</td>\n",
       "      <td>0</td>\n",
       "      <td>0</td>\n",
       "    </tr>\n",
       "  </tbody>\n",
       "</table>\n",
       "<p>5 rows × 27 columns</p>\n",
       "</div>"
      ],
      "text/plain": [
       "   ID Restaurant  Oras  order id  avg_prep_time  cluster_load  distance  \\\n",
       "0            403    11      2160          12.29           1.0      3.54   \n",
       "1           1106     3     40135          20.00           1.0      4.05   \n",
       "2            403    11     36882          12.29           1.0      1.60   \n",
       "3            625     3      1329          20.00           1.0      4.49   \n",
       "4            999     3     13449           0.00           1.0      1.02   \n",
       "\n",
       "   actual_delivery_time  taken  alocata  ridicata  ...  \\\n",
       "0                    24      1        1        11  ...   \n",
       "1                    36      0        0        22  ...   \n",
       "2                    22      1        1        13  ...   \n",
       "3                    61      0        0        29  ...   \n",
       "4                   117      0       23        85  ...   \n",
       "\n",
       "   X or lower than Actual  X Match FDE  X or lower than FDE  \\\n",
       "0                       1            0                    0   \n",
       "1                       1            1                    1   \n",
       "2                       1            1                    1   \n",
       "3                       0            0                    0   \n",
       "4                       0            0                    0   \n",
       "\n",
       "   day of week_Friday  day of week_Monday  day of week_Saturday  \\\n",
       "0                   0                   0                     0   \n",
       "1                   0                   0                     0   \n",
       "2                   0                   0                     0   \n",
       "3                   0                   0                     0   \n",
       "4                   0                   0                     0   \n",
       "\n",
       "   day of week_Sunday  day of week_Thursday  day of week_Tuesday  \\\n",
       "0                   1                     0                    0   \n",
       "1                   1                     0                    0   \n",
       "2                   1                     0                    0   \n",
       "3                   1                     0                    0   \n",
       "4                   1                     0                    0   \n",
       "\n",
       "   day of week_Wednesday  \n",
       "0                      0  \n",
       "1                      0  \n",
       "2                      0  \n",
       "3                      0  \n",
       "4                      0  \n",
       "\n",
       "[5 rows x 27 columns]"
      ]
     },
     "execution_count": 16,
     "metadata": {},
     "output_type": "execute_result"
    }
   ],
   "source": [
    "train_data = pd.get_dummies(train_data)\n",
    "train_data.head()"
   ]
  },
  {
   "cell_type": "markdown",
   "metadata": {},
   "source": [
    "#### Convert features & labels to arrays"
   ]
  },
  {
   "cell_type": "code",
   "execution_count": 17,
   "metadata": {},
   "outputs": [],
   "source": [
    "y=np.array(train_data['actual_delivery_time']) \n",
    "X=train_data.drop('actual_delivery_time',axis=1) \n",
    "feature_names_list=list(X.columns)\n",
    "\n",
    "X=np.array(X)\n",
    "\n",
    "\n",
    "\n",
    "#len(feature_names_list)"
   ]
  },
  {
   "cell_type": "code",
   "execution_count": 18,
   "metadata": {},
   "outputs": [],
   "source": [
    "#sns.heatmap(train_data.isnull(),cmap='viridis')"
   ]
  },
  {
   "cell_type": "markdown",
   "metadata": {},
   "source": [
    "#### Split train & test data"
   ]
  },
  {
   "cell_type": "code",
   "execution_count": 19,
   "metadata": {},
   "outputs": [],
   "source": [
    "\n",
    "X_train, X_test, y_train, y_test = train_test_split(X, y, test_size=0.3, random_state=42)"
   ]
  },
  {
   "cell_type": "markdown",
   "metadata": {},
   "source": [
    "#### Choose a baseline (which is based on FDE) for evaluation of my model "
   ]
  },
  {
   "cell_type": "code",
   "execution_count": 20,
   "metadata": {},
   "outputs": [
    {
     "name": "stdout",
     "output_type": "stream",
     "text": [
      "Average baseline error:  17.27\n"
     ]
    }
   ],
   "source": [
    "baseline_preds = X_test[:,feature_names_list.index('FDE')]\n",
    "baseline_errors = abs(baseline_preds-y_test) \n",
    "\n",
    "print('Average baseline error: ', round(np.mean(baseline_errors), 2)) "
   ]
  },
  {
   "cell_type": "markdown",
   "metadata": {},
   "source": [
    "#### Build model & predict"
   ]
  },
  {
   "cell_type": "code",
   "execution_count": 21,
   "metadata": {},
   "outputs": [
    {
     "data": {
      "text/plain": [
       "RandomForestRegressor(n_estimators=1000, random_state=42)"
      ]
     },
     "execution_count": 21,
     "metadata": {},
     "output_type": "execute_result"
    }
   ],
   "source": [
    "rf = RandomForestRegressor(n_estimators = 1000, random_state = 42) \n",
    "\n",
    "rf.fit(X_train, y_train)"
   ]
  },
  {
   "cell_type": "markdown",
   "metadata": {},
   "source": [
    "#### Error of my model is:"
   ]
  },
  {
   "cell_type": "code",
   "execution_count": 22,
   "metadata": {},
   "outputs": [
    {
     "name": "stdout",
     "output_type": "stream",
     "text": [
      "Mean Absolute Error: 5.75 minutes.\n"
     ]
    }
   ],
   "source": [
    "predictions = rf.predict(X_test) \n",
    "\n",
    "errors = abs(predictions - y_test)\n",
    "#print(errors)\n",
    "print('Mean Absolute Error:', round(np.mean(errors), 2), 'minutes.')\n"
   ]
  },
  {
   "cell_type": "markdown",
   "metadata": {},
   "source": [
    "#### Show accuracy (from diff between errors) in more readable form"
   ]
  },
  {
   "cell_type": "code",
   "execution_count": 23,
   "metadata": {},
   "outputs": [
    {
     "name": "stdout",
     "output_type": "stream",
     "text": [
      "Accuracy: 88.47 %.\n"
     ]
    }
   ],
   "source": [
    "# Calculate mean absolute percentage error (MAPE)\n",
    "\n",
    "mape = 100 * (errors / y_test) \n",
    "\n",
    "accuracy = 100 - np.mean(mape)\n",
    "print('Accuracy:', round(accuracy, 2), '%.') "
   ]
  },
  {
   "cell_type": "code",
   "execution_count": 24,
   "metadata": {
    "scrolled": true
   },
   "outputs": [
    {
     "name": "stdout",
     "output_type": "stream",
     "text": [
      "Mean Absolute Error: 5.7529653541014625\n",
      "Mean Squared Error: 210.06578296462624\n",
      "Root Mean Squared Error: 14.49364629638195\n"
     ]
    }
   ],
   "source": [
    "print('Mean Absolute Error:', sm.mean_absolute_error(y_test, predictions))\n",
    "\n",
    "print('Mean Squared Error:', sm.mean_squared_error(y_test, predictions))\n",
    "\n",
    "print('Root Mean Squared Error:', np.sqrt(sm.mean_squared_error(y_test, predictions)))"
   ]
  },
  {
   "cell_type": "markdown",
   "metadata": {},
   "source": [
    "#### Visualize a tree from the forest"
   ]
  },
  {
   "cell_type": "code",
   "execution_count": 25,
   "metadata": {},
   "outputs": [
    {
     "data": {
      "text/plain": [
       "RandomForestRegressor(max_depth=3, n_estimators=10)"
      ]
     },
     "execution_count": 25,
     "metadata": {},
     "output_type": "execute_result"
    }
   ],
   "source": [
    "#make a small tree to be able to visualize \n",
    "\n",
    "rf_small = RandomForestRegressor(n_estimators=10, max_depth = 3) \n",
    "rf_small.fit(X_train, y_train)"
   ]
  },
  {
   "cell_type": "code",
   "execution_count": 26,
   "metadata": {},
   "outputs": [],
   "source": [
    "#variable and value to split node on\n",
    "#samples = no of data points in a node \n",
    "#mean squared error of nod \n",
    "#prediction in minutes for all data points in node\n",
    "\n",
    "\n",
    "#pull out a single tree \n",
    "see_tree = rf_small.estimators_[6] \n",
    "\n",
    "#save tree as png img \n",
    "export_graphviz(see_tree, out_file='see_tree.dot', feature_names = feature_names_list, \n",
    "               rounded = True, precision = 1)\n",
    "\n",
    "(graph, ) = pydot.graph_from_dot_file('see_tree.dot') \n",
    "\n",
    "graph.write_png('see_tree.png')"
   ]
  },
  {
   "cell_type": "markdown",
   "metadata": {},
   "source": [
    "#### we have correlation above, but let's see feature importance "
   ]
  },
  {
   "cell_type": "code",
   "execution_count": 27,
   "metadata": {},
   "outputs": [],
   "source": [
    "#for numerical feature \n",
    "importances = list(rf.feature_importances_)  \n"
   ]
  },
  {
   "cell_type": "code",
   "execution_count": 28,
   "metadata": {},
   "outputs": [
    {
     "data": {
      "text/plain": [
       "Text(0.5, 1.0, 'Feature Importance')"
      ]
     },
     "execution_count": 28,
     "metadata": {},
     "output_type": "execute_result"
    },
    {
     "data": {
      "image/png": "[encoded data removed]",
      "text/plain": [
       "<Figure size 432x288 with 1 Axes>"
      ]
     },
     "metadata": {},
     "output_type": "display_data"
    }
   ],
   "source": [
    "#bar chart to see feature importance\n",
    "plt.style.use('fivethirtyeight') \n",
    "\n",
    "x_values=list(range(len(importances))) \n",
    "\n",
    "plt.bar(x_values, importances, orientation='vertical') \n",
    "\n",
    "plt.xticks(x_values, feature_names_list, rotation='vertical') \n",
    "\n",
    "plt.ylabel('Importance') \n",
    "plt.xlabel('Feature') \n",
    "plt.title('Feature Importance')"
   ]
  },
  {
   "cell_type": "code",
   "execution_count": 29,
   "metadata": {},
   "outputs": [],
   "source": [
    "predictions_allData = rf.predict(X)\n",
    "#data_all=pd.read_excel('/home/cas/Desktop/TazzFDE/FDE Estimation/Calcul FDE.xlsx', sheet_name='Data all', engine='openpyxl')  \n",
    "\n",
    "#data_all['predicted delivery time'] = predictions_allData \n"
   ]
  },
  {
   "cell_type": "code",
   "execution_count": null,
   "metadata": {},
   "outputs": [],
   "source": []
  },
  {
   "cell_type": "markdown",
   "metadata": {},
   "source": [
    "#### Save predictions in xlsx file"
   ]
  },
  {
   "cell_type": "code",
   "execution_count": 30,
   "metadata": {},
   "outputs": [],
   "source": [
    "df_predictions = pd.DataFrame(data=predictions_allData, columns=['Predicted Delivery Time'])\n",
    "writer = pd.ExcelWriter('/home/cas/Desktop/TazzFDE/FDE Estimation/Delivery_Time_Prediction.xlsx', engine='xlsxwriter')\n",
    "df_predictions.to_excel(writer,sheet_name='Sheet1', index=False)\n",
    "writer.save()"
   ]
  },
  {
   "cell_type": "code",
   "execution_count": null,
   "metadata": {},
   "outputs": [],
   "source": []
  }
 ],
 "metadata": {
  "kernelspec": {
   "display_name": "Python 3",
   "language": "python",
   "name": "python3"
  },
  "language_info": {
   "codemirror_mode": {
    "name": "ipython",
    "version": 3
   },
   "file_extension": ".py",
   "mimetype": "text/x-python",
   "name": "python",
   "nbconvert_exporter": "python",
   "pygments_lexer": "ipython3",
   "version": "3.8.5"
  }
 },
 "nbformat": 4,
 "nbformat_minor": 4
}
